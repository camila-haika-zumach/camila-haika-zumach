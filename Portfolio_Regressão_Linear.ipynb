{
  "nbformat": 4,
  "nbformat_minor": 0,
  "metadata": {
    "colab": {
      "name": "Portfolio - Regressão Linear.ipynb",
      "provenance": [],
      "collapsed_sections": [],
      "include_colab_link": true
    },
    "kernelspec": {
      "name": "python3",
      "display_name": "Python 3"
    },
    "language_info": {
      "name": "python"
    }
  },
  "cells": [
    {
      "cell_type": "markdown",
      "metadata": {
        "id": "view-in-github",
        "colab_type": "text"
      },
      "source": [
        "<a href=\"https://colab.research.google.com/github/camila-haika-zumach/camila-haika-zumach/blob/main/Portfolio_Regress%C3%A3o_Linear.ipynb\" target=\"_parent\"><img src=\"https://colab.research.google.com/assets/colab-badge.svg\" alt=\"Open In Colab\"/></a>"
      ]
    },
    {
      "cell_type": "markdown",
      "metadata": {
        "id": "A5WuZJ85Lt0k"
      },
      "source": [
        "Uma das áreas em que a ciência de dados pode ser aplicada é na saúde, e um tema que está em foco é a pandemia do COVID-19. \n",
        "  \n",
        "Uma das formas que se pode utilizar esses dados é para entender óbitos através do tempo como uma forma de prever a tendência futura e auxiliar em políticas públicas, por exemplo.\n",
        "\n",
        "Sabendo de tudo isso, o epidemiologista chefe do Brasil te pediu pra analisar os dados de óbitos nacionais da semana 25 a 35 e quer saber quando que o número de mortes vai ser inferior a 100 óbitos por semana para saber quando toma a decisão de abrir as completamente as cidades.\n",
        "\n",
        "Como essa decisão é importante, ele precisa de uma análise dos dados e como conhecedor da área da saúde, ele te deu uma dica: uma regressão linear pode funcionar, mas epidemias tem comportamentos exponenciais do tipo A*exp(b*t). \n",
        "\n",
        "Então você deve plotar os dados de semana por óbito e semana por ln(obito) e observar se tem alguma diferença entre os gráficos. Após isso, você deve fazer uma regressão de semana por obito e semana por ln(obito) e através das métricas de R², erro quadrático médio, gráficos dos resíduos, normalidade dos resíduos (teste de Shapiro) e homocedasticidade (teste de Breusch-Pagan), você deve dizer escolher o modelo que vai responder a pergunta do epidemiologista."
      ]
    },
    {
      "cell_type": "code",
      "metadata": {
        "id": "XM45UcaML-Av"
      },
      "source": [
        "# aqui vai as bibliotecas que você vai usar\n",
        "import numpy as np\n",
        "import pandas as pd\n",
        "import matplotlib.pyplot as plt\n",
        "import seaborn as sns\n",
        "import scipy as sp\n",
        "import statsmodels.api as sm"
      ],
      "execution_count": null,
      "outputs": []
    },
    {
      "cell_type": "markdown",
      "metadata": {
        "id": "G-n8SBSwML5A"
      },
      "source": [
        "O dataset já está aqui e foi retirado do https://covid.saude.gov.br/ . Ele corresponde ao numero de óbitos por semana da semana 25 até a semana 35."
      ]
    },
    {
      "cell_type": "code",
      "metadata": {
        "id": "HHreGPtHMXcX"
      },
      "source": [
        "semana = np.arange(25,36)\n",
        "obitos = np.array([11935, 10852, 9306, 8373, 8182, 6922, 6382,6032,5421,4801,4352])\n",
        "df=pd.DataFrame({'Semana':semana, 'Obitos':obitos}) #coloquei num dataframe pra ficar mais facil de plotar os dados\n",
        "semana=semana.reshape(-1, 1) #coloquei aqui pra poder treinar o modelo mais facilmente"
      ],
      "execution_count": null,
      "outputs": []
    },
    {
      "cell_type": "markdown",
      "metadata": {
        "id": "Jm72SHBuNGzA"
      },
      "source": [
        "Visualização dos dados - tendência linear"
      ]
    },
    {
      "cell_type": "code",
      "metadata": {
        "id": "FOrKj7RWNLlp",
        "colab": {
          "base_uri": "https://localhost:8080/",
          "height": 296
        },
        "outputId": "8e7a348e-95a5-48ee-a504-d3039c1b324b"
      },
      "source": [
        "sns.scatterplot(data=df,x='Semana',y='Obitos')"
      ],
      "execution_count": null,
      "outputs": [
        {
          "output_type": "execute_result",
          "data": {
            "text/plain": [
              "<matplotlib.axes._subplots.AxesSubplot at 0x7fb5a267c850>"
            ]
          },
          "metadata": {},
          "execution_count": 4
        },
        {
          "output_type": "display_data",
          "data": {
            "image/png": "[encoded data removed]",
            "text/plain": [
              "<Figure size 432x288 with 1 Axes>"
            ]
          },
          "metadata": {
            "needs_background": "light"
          }
        }
      ]
    },
    {
      "cell_type": "markdown",
      "metadata": {
        "id": "VWPIUMbtNMD7"
      },
      "source": [
        "Visualização dos dados - tendência do logaritmos dos óbitos\n",
        "\n",
        "\n",
        "---\n",
        "\n"
      ]
    },
    {
      "cell_type": "code",
      "metadata": {
        "id": "uizffolBNNdA",
        "colab": {
          "base_uri": "https://localhost:8080/",
          "height": 296
        },
        "outputId": "52052048-91d8-4051-d0bb-fff3c54fae1d"
      },
      "source": [
        "# Para analisar a tendencia exponencial com uma reta, basta aplicar o logaritmo natural na variável a ser predita\n",
        "\n",
        "df['Obitos_exp']=np.log(df['Obitos'])\n",
        "sns.scatterplot(data=df,x='Semana',y='Obitos_exp')"
      ],
      "execution_count": null,
      "outputs": [
        {
          "output_type": "execute_result",
          "data": {
            "text/plain": [
              "<matplotlib.axes._subplots.AxesSubplot at 0x7fb583d45e90>"
            ]
          },
          "metadata": {},
          "execution_count": 5
        },
        {
          "output_type": "display_data",
          "data": {
            "image/png": "[encoded data removed]",
            "text/plain": [
              "<Figure size 432x288 with 1 Axes>"
            ]
          },
          "metadata": {
            "needs_background": "light"
          }
        }
      ]
    },
    {
      "cell_type": "markdown",
      "metadata": {
        "id": "LeR-BruBibu1"
      },
      "source": [
        "Vamos fazer uma coisa quando se tem poucos dados: não vamos fazer o split dos dados mas lembre-se de olhar bem as estatísticas e métricas para não ter overfitting!"
      ]
    },
    {
      "cell_type": "markdown",
      "metadata": {
        "id": "amSmQK2INNuq"
      },
      "source": [
        "Regressão linear"
      ]
    },
    {
      "cell_type": "code",
      "metadata": {
        "id": "v4vL1PC8NOo_",
        "colab": {
          "base_uri": "https://localhost:8080/"
        },
        "outputId": "19b18a96-1a75-4842-c648-9448e4a03cb9"
      },
      "source": [
        "# a gente vai usar a biblioteca statsmodels porque ela nos dá todas as estatísticas sem precisar de esforço mas voce pode utilizar o que voce quiser\n",
        "\n",
        "X_linear=semana\n",
        "X_linear = sm.add_constant(X_linear) \n",
        "y_linear=df['Obitos']\n",
        "modelo_linear = sm.OLS(y_linear,X_linear)\n",
        "resultado_linear = modelo_linear.fit()\n",
        "print(print(resultado_linear.summary()))"
      ],
      "execution_count": null,
      "outputs": [
        {
          "output_type": "stream",
          "name": "stdout",
          "text": [
            "                            OLS Regression Results                            \n",
            "==============================================================================\n",
            "Dep. Variable:                 Obitos   R-squared:                       0.965\n",
            "Model:                            OLS   Adj. R-squared:                  0.962\n",
            "Method:                 Least Squares   F-statistic:                     251.6\n",
            "Date:                Sun, 05 Sep 2021   Prob (F-statistic):           6.94e-08\n",
            "Time:                        02:06:41   Log-Likelihood:                -82.472\n",
            "No. Observations:                  11   AIC:                             168.9\n",
            "Df Residuals:                       9   BIC:                             169.7\n",
            "Df Model:                           1                                         \n",
            "Covariance Type:            nonrobust                                         \n",
            "==============================================================================\n",
            "                 coef    std err          t      P>|t|      [0.025      0.975]\n",
            "------------------------------------------------------------------------------\n",
            "const       2.939e+04   1387.603     21.183      0.000    2.63e+04    3.25e+04\n",
            "x1          -729.6000     45.999    -15.861      0.000    -833.656    -625.544\n",
            "==============================================================================\n",
            "Omnibus:                        0.793   Durbin-Watson:                   0.806\n",
            "Prob(Omnibus):                  0.673   Jarque-Bera (JB):                0.623\n",
            "Skew:                           0.179   Prob(JB):                        0.732\n",
            "Kurtosis:                       1.890   Cond. No.                         288.\n",
            "==============================================================================\n",
            "\n",
            "Warnings:\n",
            "[1] Standard Errors assume that the covariance matrix of the errors is correctly specified.\n",
            "None\n"
          ]
        },
        {
          "output_type": "stream",
          "name": "stderr",
          "text": [
            "/usr/local/lib/python3.7/dist-packages/scipy/stats/stats.py:1535: UserWarning: kurtosistest only valid for n>=20 ... continuing anyway, n=11\n",
            "  \"anyway, n=%i\" % int(n))\n"
          ]
        }
      ]
    },
    {
      "cell_type": "code",
      "metadata": {
        "colab": {
          "base_uri": "https://localhost:8080/",
          "height": 282
        },
        "id": "UdFuzf2pjlYr",
        "outputId": "0053a045-8048-4132-92ef-b79c5343e886"
      },
      "source": [
        "predicao_linear= resultado_linear.predict(X_linear)\n",
        "residuos_linear=resultado_linear.resid\n",
        "sns.residplot(y=residuos_linear,x=predicao_linear)\n",
        "\n",
        "# O que você acha desses resíduos? Eles são tem a variância constante no intervalo?"
      ],
      "execution_count": null,
      "outputs": [
        {
          "output_type": "execute_result",
          "data": {
            "text/plain": [
              "<matplotlib.axes._subplots.AxesSubplot at 0x7fb5836f9950>"
            ]
          },
          "metadata": {},
          "execution_count": 8
        },
        {
          "output_type": "display_data",
          "data": {
            "image/png": "[encoded data removed]",
            "text/plain": [
              "<Figure size 432x288 with 1 Axes>"
            ]
          },
          "metadata": {
            "needs_background": "light"
          }
        }
      ]
    },
    {
      "cell_type": "code",
      "metadata": {
        "colab": {
          "base_uri": "https://localhost:8080/"
        },
        "id": "7WEqUZWTwgIT",
        "outputId": "47955f64-fcdb-47ec-95ca-573e2a7abf09"
      },
      "source": [
        "#Aqui é o erro quadrático médio\n",
        "\n",
        "print(sm.tools.eval_measures.rmse(y_linear, predicao_linear))"
      ],
      "execution_count": null,
      "outputs": [
        {
          "output_type": "stream",
          "name": "stdout",
          "text": [
            "436.38104510728414\n"
          ]
        }
      ]
    },
    {
      "cell_type": "code",
      "metadata": {
        "colab": {
          "base_uri": "https://localhost:8080/"
        },
        "id": "fg59sUnni7jL",
        "outputId": "bf1f1d1f-4d67-41b6-e17b-5bee6abf33f5"
      },
      "source": [
        "#vamos fazer o teste de normalidade dos resíduos\n",
        "\n",
        "stat, p = sp.stats.shapiro(residuos_linear)\n",
        "print('Statistics=%.3f, p=%.3f' % (stat, p))\n",
        "\n",
        "#o p valor é maior que 5%, então a distribuição é normal"
      ],
      "execution_count": null,
      "outputs": [
        {
          "output_type": "stream",
          "name": "stdout",
          "text": [
            "Statistics=0.948, p=0.623\n"
          ]
        }
      ]
    },
    {
      "cell_type": "code",
      "metadata": {
        "colab": {
          "base_uri": "https://localhost:8080/"
        },
        "id": "bwXdxlFLlQHN",
        "outputId": "d4ad6413-95e7-4d15-af90-f0149a04eea8"
      },
      "source": [
        "# aqui tem o teste de homocedasticidade \n",
        "\n",
        "sm.stats.het_breuschpagan(residuos_linear,resultado_linear.model.exog)\n",
        "\n",
        "#o pvalor está na segunda linha e como é maior que 5%, os resíduos tem variancia inconstante no intervalo"
      ],
      "execution_count": null,
      "outputs": [
        {
          "output_type": "execute_result",
          "data": {
            "text/plain": [
              "(3.156545059505461,\n",
              " 0.07562307126980287,\n",
              " 3.6219887474432197,\n",
              " 0.0894360907440582)"
            ]
          },
          "metadata": {},
          "execution_count": 11
        }
      ]
    },
    {
      "cell_type": "markdown",
      "metadata": {
        "id": "Tu6BpqL5pLAS"
      },
      "source": [
        "Regressão linear de Ln(y) = a*x+b-> Observe que se você a curva segue y= a*exp(b*x), a equação fica ln(y) = ln(a)+b*x se colocar ln dos dois lados"
      ]
    },
    {
      "cell_type": "code",
      "metadata": {
        "colab": {
          "base_uri": "https://localhost:8080/"
        },
        "id": "-HFpyc1Zj6NE",
        "outputId": "fda48b33-3fbf-452e-c5a6-1407e5de44b3"
      },
      "source": [
        "X_exp=semana\n",
        "X_exp = sm.add_constant(X_exp) \n",
        "y_exp=df['Obitos_exp']\n",
        "modelo_exp= sm.OLS(y_exp,X_exp)\n",
        "resultado_exp = modelo_exp.fit()\n",
        "print(print(resultado_exp.summary()))"
      ],
      "execution_count": null,
      "outputs": [
        {
          "output_type": "stream",
          "name": "stdout",
          "text": [
            "                            OLS Regression Results                            \n",
            "==============================================================================\n",
            "Dep. Variable:             Obitos_exp   R-squared:                       0.993\n",
            "Model:                            OLS   Adj. R-squared:                  0.993\n",
            "Method:                 Least Squares   F-statistic:                     1335.\n",
            "Date:                Sun, 05 Sep 2021   Prob (F-statistic):           4.27e-11\n",
            "Time:                        02:08:50   Log-Likelihood:                 24.721\n",
            "No. Observations:                  11   AIC:                            -45.44\n",
            "Df Residuals:                       9   BIC:                            -44.65\n",
            "Df Model:                           1                                         \n",
            "Covariance Type:            nonrobust                                         \n",
            "==============================================================================\n",
            "                 coef    std err          t      P>|t|      [0.025      0.975]\n",
            "------------------------------------------------------------------------------\n",
            "const         11.8288      0.081    145.479      0.000      11.645      12.013\n",
            "x1            -0.0985      0.003    -36.533      0.000      -0.105      -0.092\n",
            "==============================================================================\n",
            "Omnibus:                        2.723   Durbin-Watson:                   2.251\n",
            "Prob(Omnibus):                  0.256   Jarque-Bera (JB):                1.003\n",
            "Skew:                          -0.170   Prob(JB):                        0.605\n",
            "Kurtosis:                       1.560   Cond. No.                         288.\n",
            "==============================================================================\n",
            "\n",
            "Warnings:\n",
            "[1] Standard Errors assume that the covariance matrix of the errors is correctly specified.\n",
            "None\n"
          ]
        },
        {
          "output_type": "stream",
          "name": "stderr",
          "text": [
            "/usr/local/lib/python3.7/dist-packages/scipy/stats/stats.py:1535: UserWarning: kurtosistest only valid for n>=20 ... continuing anyway, n=11\n",
            "  \"anyway, n=%i\" % int(n))\n"
          ]
        }
      ]
    },
    {
      "cell_type": "code",
      "metadata": {
        "colab": {
          "base_uri": "https://localhost:8080/",
          "height": 282
        },
        "id": "E5A3cS-kq00w",
        "outputId": "bbd0b928-2cc5-42d7-dc36-f1642da8bf57"
      },
      "source": [
        "predicao_exp= resultado_exp.predict(X_exp) #aqui a gente precisa pegar só o vetor de semanas para o programa entender (esse vetor tem o const tb)\n",
        "\n",
        "residuos_exp=np.exp(predicao_exp)-np.exp(np.transpose(y_exp)) # aqui a gente volta a usar o numero de obitos ao inves do ln(obitos)\n",
        "sns.residplot(y=residuos_exp,x=np.exp(predicao_exp))\n",
        "\n",
        "# o que você acha desses resíduos? Eles são tem a variância constante no intervalo e estão distribuidos normalmente?"
      ],
      "execution_count": null,
      "outputs": [
        {
          "output_type": "execute_result",
          "data": {
            "text/plain": [
              "<matplotlib.axes._subplots.AxesSubplot at 0x7fb583609510>"
            ]
          },
          "metadata": {},
          "execution_count": 13
        },
        {
          "output_type": "display_data",
          "data": {
            "image/png": "[encoded data removed]",
            "text/plain": [
              "<Figure size 432x288 with 1 Axes>"
            ]
          },
          "metadata": {
            "needs_background": "light"
          }
        }
      ]
    },
    {
      "cell_type": "code",
      "metadata": {
        "colab": {
          "base_uri": "https://localhost:8080/"
        },
        "id": "i80kEh0Jw0bX",
        "outputId": "2b8e9b4c-14d5-431f-fe4f-696180f1a9c7"
      },
      "source": [
        "#Aqui é o erro quadrático médio\n",
        "\n",
        "print(sm.tools.eval_measures.rmse(np.exp(y_exp), np.exp(predicao_exp)))"
      ],
      "execution_count": null,
      "outputs": [
        {
          "output_type": "stream",
          "name": "stdout",
          "text": [
            "214.0723944951227\n"
          ]
        }
      ]
    },
    {
      "cell_type": "code",
      "metadata": {
        "colab": {
          "base_uri": "https://localhost:8080/"
        },
        "id": "vZS1hLqijyym",
        "outputId": "91ff5f4e-2b89-4db5-cd1c-dc443a4639c3"
      },
      "source": [
        "#vamos fazer o teste de normalidade dos resíduos\n",
        "stat, p = sp.stats.shapiro(residuos_exp)\n",
        "print('Statistics=%.3f, p=%.3f' % (stat, p))\n",
        "#o p valor é maior que 5%, então a distribuição é normal"
      ],
      "execution_count": null,
      "outputs": [
        {
          "output_type": "stream",
          "name": "stdout",
          "text": [
            "Statistics=0.928, p=0.388\n"
          ]
        }
      ]
    },
    {
      "cell_type": "code",
      "metadata": {
        "colab": {
          "base_uri": "https://localhost:8080/"
        },
        "id": "PDKONcMKmm9y",
        "outputId": "d75d0820-a667-48f5-f882-854c8316b6cf"
      },
      "source": [
        "# aqui tem o teste de homocedasticidade\n",
        "\n",
        "sm.stats.het_breuschpagan(residuos_exp,resultado_exp.model.exog)\n",
        "\n",
        "#o pvalor está na segunda linha e como é menor que 5%, os resíduos tem variancia constante no intervalo"
      ],
      "execution_count": null,
      "outputs": [
        {
          "output_type": "execute_result",
          "data": {
            "text/plain": [
              "(6.794328498726222,\n",
              " 0.009144791323019359,\n",
              " 14.539641641059157,\n",
              " 0.00413349512514374)"
            ]
          },
          "metadata": {},
          "execution_count": 16
        }
      ]
    },
    {
      "cell_type": "code",
      "metadata": {
        "colab": {
          "base_uri": "https://localhost:8080/",
          "height": 316
        },
        "id": "bWGxHFChsPok",
        "outputId": "e6f84226-7e53-404b-b70a-0df5d46092b5"
      },
      "source": [
        "# comparação visual entre os modelos\n",
        "# qual voce acha que ajustou melhor?\n",
        "\n",
        "plt.plot(df['Semana'], predicao_linear, 'b', df['Semana'], np.exp(predicao_exp), 'r',df['Semana'],df['Obitos'],'go')"
      ],
      "execution_count": null,
      "outputs": [
        {
          "output_type": "execute_result",
          "data": {
            "text/plain": [
              "[<matplotlib.lines.Line2D at 0x7fb594badb50>,\n",
              " <matplotlib.lines.Line2D at 0x7fb5835b5990>,\n",
              " <matplotlib.lines.Line2D at 0x7fb5835b5c50>]"
            ]
          },
          "metadata": {},
          "execution_count": 17
        },
        {
          "output_type": "display_data",
          "data": {
            "image/png": "[encoded data removed]",
            "text/plain": [
              "<Figure size 432x288 with 1 Axes>"
            ]
          },
          "metadata": {
            "needs_background": "light"
          }
        }
      ]
    },
    {
      "cell_type": "markdown",
      "metadata": {
        "id": "_nikEQS3n5hs"
      },
      "source": [
        "O R² do linear é 0.965 e do modelo exponencial é de 0.993. O RMSE linear é 436.38 e do exponencial 214.07. Apesar dos dois modelos terem resíduos normais, apenas o exponencial tem homocedasticidade.\n",
        "\n",
        "O modelo exponencial tem melhores métricas em comparação ao modelo linear e contextualizando com os dados, o modelo exponencial ajustado tende a zero no tempo infinito e o linear não, perdendo o sentido físico do dado. \n",
        "\n",
        "Respondendo ao epidemiologista, ln(obitos = 100)= -0.0985*semanas + 11.83 e isolando as semanas, temos que a semana com menos de 100 mortes será a partir da semana 73 ou seja, daqui a aproximadamente 9 meses.\n",
        "\n"
      ]
    }
  ]
}